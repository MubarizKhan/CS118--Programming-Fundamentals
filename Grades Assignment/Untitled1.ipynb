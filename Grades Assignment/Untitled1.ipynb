{
 "cells": [
  {
   "cell_type": "code",
   "execution_count": 3,
   "metadata": {},
   "outputs": [],
   "source": [
    "def get_grade(obt_marks):\n",
    "    if obt_marks >= 90:\n",
    "        return 'A+'\n",
    "\n",
    "    if obt_marks >= 86:\n",
    "        return 'A'\n",
    "\n",
    "    if obt_marks >= 82:\n",
    "        return 'A-'\n",
    "\n",
    "    if obt_marks >= 78:\n",
    "        return 'B+'\n",
    "\n",
    "    if obt_marks >= 74:\n",
    "        return 'B'\n",
    "\n",
    "    if obt_marks >= 70:\n",
    "        return 'B-'\n",
    "\n",
    "    if obt_marks >= 66:\n",
    "        return 'C+'\n",
    "\n",
    "    if obt_marks >= 62:\n",
    "        return 'C'\n",
    "\n",
    "    if obt_marks >= 58:\n",
    "        return 'C-'\n",
    "\n",
    "\n",
    "    if obt_marks >= 54:\n",
    "        return 'D+'\n",
    "\n",
    "    if obt_marks >= 50:\n",
    "        return 'D'\n",
    "\n",
    "    if obt_marks >= 0:\n",
    "        return 'F'"
   ]
  },
  {
   "cell_type": "code",
   "execution_count": null,
   "metadata": {
    "collapsed": true
   },
   "outputs": [],
   "source": []
  }
 ],
 "metadata": {
  "kernelspec": {
   "display_name": "Python 2",
   "language": "python",
   "name": "python2"
  },
  "language_info": {
   "codemirror_mode": {
    "name": "ipython",
    "version": 2
   },
   "file_extension": ".py",
   "mimetype": "text/x-python",
   "name": "python",
   "nbconvert_exporter": "python",
   "pygments_lexer": "ipython2",
   "version": "2.7.13"
  }
 },
 "nbformat": 4,
 "nbformat_minor": 2
}
