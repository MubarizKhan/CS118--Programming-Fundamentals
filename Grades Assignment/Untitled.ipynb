{
 "cells": [
  {
   "cell_type": "code",
   "execution_count": 4,
   "metadata": {},
   "outputs": [
    {
     "ename": "IndentationError",
     "evalue": "unindent does not match any outer indentation level (<ipython-input-4-7ced3b046ce2>, line 11)",
     "output_type": "error",
     "traceback": [
      "\u001b[1;36m  File \u001b[1;32m\"<ipython-input-4-7ced3b046ce2>\"\u001b[1;36m, line \u001b[1;32m11\u001b[0m\n\u001b[1;33m    if obt_marks >= 78:\u001b[0m\n\u001b[1;37m                       ^\u001b[0m\n\u001b[1;31mIndentationError\u001b[0m\u001b[1;31m:\u001b[0m unindent does not match any outer indentation level\n"
     ]
    }
   ],
   "source": [
    "def get_grade(obt_marks):\n",
    "\tif obt_marks >= 90:\n",
    "\t\treturn 'A+'\n",
    "\n",
    "if obt_marks >= 86:\n",
    "        return 'A'\n",
    "\n",
    "if obt_marks >= 82:\n",
    "    \treturn 'A-'\n",
    "\n",
    "    if obt_marks >= 78:\n",
    "    \treturn 'B+'\n",
    "\n",
    "    if obt_marks >= 74:\n",
    "    \treturn 'B'\n",
    "\n",
    "    if obt_marks >= 70:\n",
    "    \treturn 'B-'\n",
    "\n",
    "    if obt_marks >= 66:\n",
    "    \treturn 'C+'\n",
    "\n",
    "    if obt_marks >= 62:\n",
    "    \treturn 'C'\n",
    "\n",
    "    if obt_marks >= 58:\n",
    "    \treturn 'C-'\n",
    "\n",
    "\n",
    "    if obt_marks >= 54:\n",
    "    \treturn 'D+'\n",
    "\n",
    "    if obt_marks >= 50:\n",
    "    \treturn 'D'\n",
    "\n",
    "    if obt_marks >= 0:\n",
    "    \treturn 'F'"
   ]
  },
  {
   "cell_type": "code",
   "execution_count": null,
   "metadata": {
    "collapsed": true
   },
   "outputs": [],
   "source": []
  }
 ],
 "metadata": {
  "kernelspec": {
   "display_name": "Python 2",
   "language": "python",
   "name": "python2"
  },
  "language_info": {
   "codemirror_mode": {
    "name": "ipython",
    "version": 2
   },
   "file_extension": ".py",
   "mimetype": "text/x-python",
   "name": "python",
   "nbconvert_exporter": "python",
   "pygments_lexer": "ipython2",
   "version": "2.7.13"
  }
 },
 "nbformat": 4,
 "nbformat_minor": 2
}
