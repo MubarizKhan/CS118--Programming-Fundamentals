{
 "cells": [
  {
   "cell_type": "code",
   "execution_count": 5,
   "metadata": {},
   "outputs": [
    {
     "ename": "SyntaxError",
     "evalue": "invalid syntax (<ipython-input-5-04ed458bd39b>, line 21)",
     "output_type": "error",
     "traceback": [
      "\u001b[1;36m  File \u001b[1;32m\"<ipython-input-5-04ed458bd39b>\"\u001b[1;36m, line \u001b[1;32m21\u001b[0m\n\u001b[1;33m    if x == 'C'\u001b[0m\n\u001b[1;37m               ^\u001b[0m\n\u001b[1;31mSyntaxError\u001b[0m\u001b[1;31m:\u001b[0m invalid syntax\n"
     ]
    }
   ],
   "source": [
    "def grades_val(x):\n",
    "\n",
    "    if x == 'A':\n",
    "        return 4.00\n",
    " \n",
    "    if x == 'A-':\n",
    "        return 3.67\n",
    "\n",
    "    if x == 'B+':\n",
    "        return 3.33\n",
    "\n",
    "    if x == 'B':\n",
    "        return 3.00\n",
    " \n",
    "    if x == 'B-':\n",
    "        return 2.67\n",
    "\n",
    "    if x == 'C+':\n",
    "        return 2.33\n",
    "\n",
    "    if x == 'C'\n",
    "        return 2.00\n",
    "\n",
    "    if x == 'C-'\n",
    "        return 1.67\n",
    "\n",
    "    if x == 'D+'\n",
    "        return 1.33\n",
    "\n",
    "    if x == 'D'\n",
    "        return 1.00\n",
    "\n",
    "    if x == 'F'\n",
    "        return 0.00\n"
   ]
  },
  {
   "cell_type": "code",
   "execution_count": null,
   "metadata": {
    "collapsed": true
   },
   "outputs": [],
   "source": []
  },
  {
   "cell_type": "code",
   "execution_count": null,
   "metadata": {
    "collapsed": true
   },
   "outputs": [],
   "source": []
  }
 ],
 "metadata": {
  "kernelspec": {
   "display_name": "Python 2",
   "language": "python",
   "name": "python2"
  },
  "language_info": {
   "codemirror_mode": {
    "name": "ipython",
    "version": 2
   },
   "file_extension": ".py",
   "mimetype": "text/x-python",
   "name": "python",
   "nbconvert_exporter": "python",
   "pygments_lexer": "ipython2",
   "version": "2.7.13"
  }
 },
 "nbformat": 4,
 "nbformat_minor": 2
}
