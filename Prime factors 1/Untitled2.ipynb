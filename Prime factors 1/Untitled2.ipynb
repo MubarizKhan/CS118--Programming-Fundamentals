{
 "cells": [
  {
   "cell_type": "code",
   "execution_count": 27,
   "metadata": {},
   "outputs": [
    {
     "ename": "SyntaxError",
     "evalue": "'return' outside function (<ipython-input-27-33ce436c7cfc>, line 11)",
     "output_type": "error",
     "traceback": [
      "\u001b[1;36m  File \u001b[1;32m\"<ipython-input-27-33ce436c7cfc>\"\u001b[1;36m, line \u001b[1;32m11\u001b[0m\n\u001b[1;33m    return False\u001b[0m\n\u001b[1;31mSyntaxError\u001b[0m\u001b[1;31m:\u001b[0m 'return' outside function\n"
     ]
    }
   ],
   "source": [
    "def is_prime(D):\n",
    " \tif type(D) == float:\n",
    "\t\tn = int(n)\n",
    "\n",
    "\tif n < 2:\n",
    "\t\treturn False\n",
    "\n",
    "\n",
    "for i in range(2, int((n**0.5) + 1)):\n",
    "    if n % i == 0:\n",
    "        return False\n",
    "return True"
   ]
  },
  {
   "cell_type": "code",
   "execution_count": 28,
   "metadata": {
    "collapsed": true
   },
   "outputs": [],
   "source": [
    "def output_factors(x):\n",
    "    \n",
    "    for i in range(1, x +1):\n",
    "        if x % i == 0:\n",
    "            print i\n",
    "            \n",
    "            if x == i:\n",
    "                break"
   ]
  },
  {
   "cell_type": "code",
   "execution_count": null,
   "metadata": {
    "collapsed": true
   },
   "outputs": [],
   "source": []
  }
 ],
 "metadata": {
  "kernelspec": {
   "display_name": "Python 2",
   "language": "python",
   "name": "python2"
  },
  "language_info": {
   "codemirror_mode": {
    "name": "ipython",
    "version": 2
   },
   "file_extension": ".py",
   "mimetype": "text/x-python",
   "name": "python",
   "nbconvert_exporter": "python",
   "pygments_lexer": "ipython2",
   "version": "2.7.13"
  }
 },
 "nbformat": 4,
 "nbformat_minor": 2
}
