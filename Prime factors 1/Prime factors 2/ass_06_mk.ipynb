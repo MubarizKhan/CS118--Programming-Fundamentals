{
 "cells": [
  {
   "cell_type": "code",
   "execution_count": 1,
   "metadata": {
    "collapsed": true
   },
   "outputs": [],
   "source": [
    "def sum_of_three(a,b,c):\n",
    "    sum = a + b + c\n",
    "    return sum\n",
    "\n",
    "    "
   ]
  },
  {
   "cell_type": "code",
   "execution_count": 2,
   "metadata": {},
   "outputs": [
    {
     "data": {
      "text/plain": [
       "15"
      ]
     },
     "execution_count": 2,
     "metadata": {},
     "output_type": "execute_result"
    }
   ],
   "source": [
    "sum_of_three(4,5,6)"
   ]
  },
  {
   "cell_type": "code",
   "execution_count": 3,
   "metadata": {
    "collapsed": true
   },
   "outputs": [],
   "source": [
    "def product_of_true(a,b):\n",
    "    product = a * b\n",
    "    return product"
   ]
  },
  {
   "cell_type": "code",
   "execution_count": 5,
   "metadata": {},
   "outputs": [
    {
     "data": {
      "text/plain": [
       "24"
      ]
     },
     "execution_count": 5,
     "metadata": {},
     "output_type": "execute_result"
    }
   ],
   "source": [
    "product_of_true(8,3)"
   ]
  },
  {
   "cell_type": "code",
   "execution_count": 8,
   "metadata": {},
   "outputs": [],
   "source": [
    "def is_a_vowel(x):\n",
    "    if x == 'a' or x == 'e' or x == 'i' or x == 'o' or x == 'u':\n",
    "        return 'is a vowel'\n",
    "    else:\n",
    "\n",
    "        return 'not a vowel'"
   ]
  },
  {
   "cell_type": "code",
   "execution_count": 12,
   "metadata": {},
   "outputs": [
    {
     "data": {
      "text/plain": [
       "'is a vowel'"
      ]
     },
     "execution_count": 12,
     "metadata": {},
     "output_type": "execute_result"
    }
   ],
   "source": [
    "is_a_vowel('o')"
   ]
  },
  {
   "cell_type": "code",
   "execution_count": 15,
   "metadata": {},
   "outputs": [
    {
     "name": "stdout",
     "output_type": "stream",
     "text": [
      "the product of  1 Chikaur 1\n",
      "the product of  2 Chikaur 4\n",
      "the product of  3 Chikaur 9\n",
      "the product of  4 Chikaur 16\n",
      "the product of  5 Chikaur 25\n",
      "the product of  6 Chikaur 36\n",
      "the product of  7 Chikaur 49\n",
      "the product of  8 Chikaur 64\n",
      "the product of  9 Chikaur 81\n"
     ]
    }
   ],
   "source": [
    "\n",
    "for i in range(1, 10):\n",
    "    \n",
    "    a = i * i\n",
    "    \n",
    "    print \"the product of \", i , \"Chikaur\", a"
   ]
  },
  {
   "cell_type": "code",
   "execution_count": 16,
   "metadata": {
    "collapsed": true
   },
   "outputs": [],
   "source": [
    "def print_factors(x):\n",
    "   # This function takes a number and prints the factors\n",
    "\n",
    "   print(\"The factors of\",x,\"are:\")\n",
    "   for i in range(1, x + 1):\n",
    "       if x % i == 0:\n",
    "           print(i)"
   ]
  },
  {
   "cell_type": "code",
   "execution_count": 25,
   "metadata": {},
   "outputs": [
    {
     "name": "stdout",
     "output_type": "stream",
     "text": [
      "('The factors of', 110000, 'are:')\n",
      "1\n",
      "2\n",
      "4\n",
      "5\n",
      "8\n",
      "10\n",
      "11\n",
      "16\n",
      "20\n",
      "22\n",
      "25\n",
      "40\n",
      "44\n",
      "50\n",
      "55\n",
      "80\n",
      "88\n",
      "100\n",
      "110\n",
      "125\n",
      "176\n",
      "200\n",
      "220\n",
      "250\n",
      "275\n",
      "400\n",
      "440\n",
      "500\n",
      "550\n",
      "625\n",
      "880\n",
      "1000\n",
      "1100\n",
      "1250\n",
      "1375\n",
      "2000\n",
      "2200\n",
      "2500\n",
      "2750\n",
      "4400\n",
      "5000\n",
      "5500\n",
      "6875\n",
      "10000\n",
      "11000\n",
      "13750\n",
      "22000\n",
      "27500\n",
      "55000\n",
      "110000\n"
     ]
    }
   ],
   "source": [
    "# Python Program to find the factors of a number\n",
    "\n",
    "# define a function\n",
    "def print_factors(x):\n",
    "   # This function takes a number and prints the factors\n",
    "\n",
    "   print(\"The factors of\",x,\"are:\")\n",
    "   for i in range(1, x + 1):\n",
    "       if x % i == 0:\n",
    "           print(i)\n",
    "\n",
    "# change this value for a different result.\n",
    "num = 110000\n",
    "\n",
    "# uncomment the following line to take input from the user\n",
    "#num = int(input(\"Enter a number: \"))\n",
    "\n",
    "print_factors(num)"
   ]
  },
  {
   "cell_type": "code",
   "execution_count": 48,
   "metadata": {
    "scrolled": true
   },
   "outputs": [
    {
     "ename": "IndentationError",
     "evalue": "unindent does not match any outer indentation level (<ipython-input-48-ae0bfd2259ca>, line 13)",
     "output_type": "error",
     "traceback": [
      "\u001b[1;36m  File \u001b[1;32m\"<ipython-input-48-ae0bfd2259ca>\"\u001b[1;36m, line \u001b[1;32m13\u001b[0m\n\u001b[1;33m    return (i,\"times\",num//i,\"is\",num)\u001b[0m\n\u001b[1;37m                                      ^\u001b[0m\n\u001b[1;31mIndentationError\u001b[0m\u001b[1;31m:\u001b[0m unindent does not match any outer indentation level\n"
     ]
    }
   ],
   "source": [
    "# Python program to check if the input number is prime or not\n",
    "def is_prime(Y):\n",
    "    num = 407\n",
    "\n",
    "# take input from the user\n",
    "# num = int(input(\"Enter a number: \"))\n",
    "\n",
    "# prime numbers are greater than 1\n",
    "if num > 1:\n",
    "   # check for factors\n",
    "   for i in range(2,num):\n",
    "       if (num % i) == 0:\n",
    "        return (i,\"times\",num//i,\"is\",num)\n",
    "        break\n",
    "else:\n",
    " return (num,\"is a prime number\")\n",
    "       \n",
    "# if input number is less than\n",
    "# or equal to 1, it is not prime\n",
    "else:\n",
    "   return (num,\"is not a prime number\")"
   ]
  },
  {
   "cell_type": "code",
   "execution_count": 85,
   "metadata": {},
   "outputs": [],
   "source": [
    "def output_prime_factors(p):\n",
    "    \n",
    "    for i in range(1, 100000):\n",
    "        \n",
    "        if p % i == 0:\n",
    "            if is_prime(i):\n",
    "                return i\n",
    "            i = i + 1\n",
    "            \n",
    "        \n",
    "        \n",
    "def is_prime(number):\n",
    "    \n",
    "    for i in range(2, number):\n",
    "        \n",
    "        if (number % i) == 0:\n",
    "            return False\n",
    "            break\n",
    "        else:\n",
    "            return True"
   ]
  },
  {
   "cell_type": "code",
   "execution_count": 84,
   "metadata": {},
   "outputs": [
    {
     "data": {
      "text/plain": [
       "5"
      ]
     },
     "execution_count": 84,
     "metadata": {},
     "output_type": "execute_result"
    }
   ],
   "source": [
    "output_prime_factors(230)"
   ]
  },
  {
   "cell_type": "code",
   "execution_count": 96,
   "metadata": {},
   "outputs": [],
   "source": [
    "def output_prime_factor(y):\n",
    "    if type(y) == float:\n",
    "        y = int(round(y))\n",
    "    factors = []\n",
    "    \n",
    "    for i in range(1, y + 1):\n",
    "        if y%i ==0:\n",
    "            factors.append(i)\n",
    "        else:\n",
    "            None\n",
    "            \n",
    "    for i in factors:\n",
    "        if is_prime(i):\n",
    "            print i\n",
    "            \n",
    "            \n",
    "def is_prime(y):\n",
    "    if y > 1:\n",
    "        for i in range(2, y):\n",
    "            if (y % i) == 0:\n",
    "                return False\n",
    "                break\n",
    "        else:\n",
    "            return True\n",
    "                \n"
   ]
  },
  {
   "cell_type": "code",
   "execution_count": 97,
   "metadata": {},
   "outputs": [
    {
     "name": "stdout",
     "output_type": "stream",
     "text": [
      "2\n",
      "5\n",
      "23\n"
     ]
    }
   ],
   "source": [
    "output_prime_factor(230)"
   ]
  },
  {
   "cell_type": "code",
   "execution_count": 95,
   "metadata": {},
   "outputs": [
    {
     "data": {
      "text/plain": [
       "True"
      ]
     },
     "execution_count": 95,
     "metadata": {},
     "output_type": "execute_result"
    }
   ],
   "source": [
    "is_prime(11)"
   ]
  },
  {
   "cell_type": "code",
   "execution_count": 98,
   "metadata": {
    "collapsed": true
   },
   "outputs": [],
   "source": [
    "def get_nth_prime(n):\n",
    "\n",
    "    if type(n)== float:\n",
    "        return None\n",
    "\n",
    "    nth_term = 0\n",
    "\n",
    "    for i in range(1,100000):\n",
    "        if is_prime(i):\n",
    "            nth_term = nth_term + 1\n",
    "\n",
    "        if nth_term == m:\n",
    "            return i\n",
    "            break"
   ]
  },
  {
   "cell_type": "code",
   "execution_count": null,
   "metadata": {
    "collapsed": true
   },
   "outputs": [],
   "source": []
  }
 ],
 "metadata": {
  "kernelspec": {
   "display_name": "Python 2",
   "language": "python",
   "name": "python2"
  },
  "language_info": {
   "codemirror_mode": {
    "name": "ipython",
    "version": 2
   },
   "file_extension": ".py",
   "mimetype": "text/x-python",
   "name": "python",
   "nbconvert_exporter": "python",
   "pygments_lexer": "ipython2",
   "version": "2.7.13"
  }
 },
 "nbformat": 4,
 "nbformat_minor": 2
}
